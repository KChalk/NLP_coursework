{
 "cells": [
  {
   "cell_type": "code",
   "execution_count": 2,
   "metadata": {},
   "outputs": [],
   "source": [
    "import pandas as pd\n",
    "import torch\n",
    "import numpy as np\n",
    "import sklearn\n",
    "from importlib import reload\n",
    "#import matplotlib.pyplot as plt\n",
    "#%matplotlib inline"
   ]
  },
  {
   "cell_type": "markdown",
   "metadata": {},
   "source": [
    "# Character Embedding"
   ]
  },
  {
   "cell_type": "code",
   "execution_count": 5,
   "metadata": {},
   "outputs": [],
   "source": [
    "dFile='cmudict.txt'"
   ]
  },
  {
   "cell_type": "code",
   "execution_count": 6,
   "metadata": {},
   "outputs": [],
   "source": [
    "from vocab import build_vocab, sentence_to_tensor\n",
    "\n",
    "char_seqs=[]\n",
    "char_set=set()\n",
    "with open(dFile) as d: \n",
    "    for line in d: \n",
    "        line=line.strip().split()\n",
    "        word=line[0]\n",
    "        chars=line[1:]\n",
    "\n",
    "        char_seqs.append(chars)\n",
    "        char_set |=set(chars)\n",
    "                \n",
    "c2i, i2c = build_vocab(char_set)"
   ]
  },
  {
   "cell_type": "code",
   "execution_count": null,
   "metadata": {},
   "outputs": [],
   "source": []
  },
  {
   "cell_type": "code",
   "execution_count": 7,
   "metadata": {},
   "outputs": [
    {
     "data": {
      "text/plain": [
       "torch.Size([1, 9, 85])"
      ]
     },
     "execution_count": 7,
     "metadata": {},
     "output_type": "execute_result"
    }
   ],
   "source": [
    "from lm import NameGenerator, train_output_self\n",
    "\n",
    "char_model = NameGenerator(\n",
    "    input_vocab_size=len(c2i),\n",
    "    n_embedding_dims=32,\n",
    "    n_hidden_dims=20,\n",
    "    n_lstm_layers=1,\n",
    "    output_vocab_size=len(c2i)\n",
    ")\n",
    "\n",
    "x = sentence_to_tensor(\"B AH1 D ER0 F L AY2\".split(), c2i, True) # make sure to pad w/ bos/eos symbols\n",
    "y_hat, lstm_hidden_state = char_model(x, char_model.init_hidden())\n",
    "y_hat.shape # should be 1x12x78 (1 x len(\"Test input\")+2 x len(c2i))"
   ]
  },
  {
   "cell_type": "code",
   "execution_count": 27,
   "metadata": {},
   "outputs": [
    {
     "data": {
      "text/plain": [
       "133279"
      ]
     },
     "execution_count": 27,
     "metadata": {},
     "output_type": "execute_result"
    }
   ],
   "source": [
    "len(char_seqs)"
   ]
  },
  {
   "cell_type": "code",
   "execution_count": 8,
   "metadata": {},
   "outputs": [
    {
     "name": "stdout",
     "output_type": "stream",
     "text": [
      "0/133279, loss: 4.439957141876221\n"
     ]
    },
    {
     "ename": "KeyboardInterrupt",
     "evalue": "",
     "output_type": "error",
     "traceback": [
      "\u001b[0;31m---------------------------------------------------------------------------\u001b[0m",
      "\u001b[0;31mKeyboardInterrupt\u001b[0m                         Traceback (most recent call last)",
      "\u001b[0;32m<ipython-input-8-5cfc266e9024>\u001b[0m in \u001b[0;36m<module>\u001b[0;34m\u001b[0m\n\u001b[0;32m----> 1\u001b[0;31m \u001b[0mtrain_output_self\u001b[0m\u001b[0;34m(\u001b[0m\u001b[0mchar_model\u001b[0m\u001b[0;34m,\u001b[0m \u001b[0mepochs\u001b[0m\u001b[0;34m=\u001b[0m\u001b[0;36m5\u001b[0m\u001b[0;34m,\u001b[0m \u001b[0mtraining_data\u001b[0m\u001b[0;34m=\u001b[0m\u001b[0mchar_seqs\u001b[0m\u001b[0;34m,\u001b[0m \u001b[0mc2i\u001b[0m\u001b[0;34m=\u001b[0m\u001b[0mc2i\u001b[0m\u001b[0;34m)\u001b[0m\u001b[0;34m\u001b[0m\u001b[0m\n\u001b[0m",
      "\u001b[0;32m/mnt/c/Users/kdcha/Documents/Winter19/RedditProject/TsneProject/digression/lm.py\u001b[0m in \u001b[0;36mtrain_output_self\u001b[0;34m(model, epochs, training_data, c2i)\u001b[0m\n\u001b[1;32m    212\u001b[0m \u001b[0;34m\u001b[0m\u001b[0m\n\u001b[1;32m    213\u001b[0m             \u001b[0;31m# send back gradients:\u001b[0m\u001b[0;34m\u001b[0m\u001b[0;34m\u001b[0m\u001b[0m\n\u001b[0;32m--> 214\u001b[0;31m             \u001b[0mloss\u001b[0m\u001b[0;34m.\u001b[0m\u001b[0mbackward\u001b[0m\u001b[0;34m(\u001b[0m\u001b[0;34m)\u001b[0m\u001b[0;34m\u001b[0m\u001b[0m\n\u001b[0m\u001b[1;32m    215\u001b[0m             \u001b[0;31m# now, tell the optimizer to update our weights:\u001b[0m\u001b[0;34m\u001b[0m\u001b[0;34m\u001b[0m\u001b[0m\n\u001b[1;32m    216\u001b[0m             \u001b[0mopt\u001b[0m\u001b[0;34m.\u001b[0m\u001b[0mstep\u001b[0m\u001b[0;34m(\u001b[0m\u001b[0;34m)\u001b[0m\u001b[0;34m\u001b[0m\u001b[0m\n",
      "\u001b[0;32m~/anaconda3/lib/python3.6/site-packages/torch/tensor.py\u001b[0m in \u001b[0;36mbackward\u001b[0;34m(self, gradient, retain_graph, create_graph)\u001b[0m\n\u001b[1;32m     91\u001b[0m                 \u001b[0mproducts\u001b[0m\u001b[0;34m.\u001b[0m \u001b[0mDefaults\u001b[0m \u001b[0mto\u001b[0m\u001b[0;31m \u001b[0m\u001b[0;31m`\u001b[0m\u001b[0;31m`\u001b[0m\u001b[0;32mFalse\u001b[0m\u001b[0;31m`\u001b[0m\u001b[0;31m`\u001b[0m\u001b[0;34m.\u001b[0m\u001b[0;34m\u001b[0m\u001b[0m\n\u001b[1;32m     92\u001b[0m         \"\"\"\n\u001b[0;32m---> 93\u001b[0;31m         \u001b[0mtorch\u001b[0m\u001b[0;34m.\u001b[0m\u001b[0mautograd\u001b[0m\u001b[0;34m.\u001b[0m\u001b[0mbackward\u001b[0m\u001b[0;34m(\u001b[0m\u001b[0mself\u001b[0m\u001b[0;34m,\u001b[0m \u001b[0mgradient\u001b[0m\u001b[0;34m,\u001b[0m \u001b[0mretain_graph\u001b[0m\u001b[0;34m,\u001b[0m \u001b[0mcreate_graph\u001b[0m\u001b[0;34m)\u001b[0m\u001b[0;34m\u001b[0m\u001b[0m\n\u001b[0m\u001b[1;32m     94\u001b[0m \u001b[0;34m\u001b[0m\u001b[0m\n\u001b[1;32m     95\u001b[0m     \u001b[0;32mdef\u001b[0m \u001b[0mregister_hook\u001b[0m\u001b[0;34m(\u001b[0m\u001b[0mself\u001b[0m\u001b[0;34m,\u001b[0m \u001b[0mhook\u001b[0m\u001b[0;34m)\u001b[0m\u001b[0;34m:\u001b[0m\u001b[0;34m\u001b[0m\u001b[0m\n",
      "\u001b[0;32m~/anaconda3/lib/python3.6/site-packages/torch/autograd/__init__.py\u001b[0m in \u001b[0;36mbackward\u001b[0;34m(tensors, grad_tensors, retain_graph, create_graph, grad_variables)\u001b[0m\n\u001b[1;32m     88\u001b[0m     Variable._execution_engine.run_backward(\n\u001b[1;32m     89\u001b[0m         \u001b[0mtensors\u001b[0m\u001b[0;34m,\u001b[0m \u001b[0mgrad_tensors\u001b[0m\u001b[0;34m,\u001b[0m \u001b[0mretain_graph\u001b[0m\u001b[0;34m,\u001b[0m \u001b[0mcreate_graph\u001b[0m\u001b[0;34m,\u001b[0m\u001b[0;34m\u001b[0m\u001b[0m\n\u001b[0;32m---> 90\u001b[0;31m         allow_unreachable=True)  # allow_unreachable flag\n\u001b[0m\u001b[1;32m     91\u001b[0m \u001b[0;34m\u001b[0m\u001b[0m\n\u001b[1;32m     92\u001b[0m \u001b[0;34m\u001b[0m\u001b[0m\n",
      "\u001b[0;31mKeyboardInterrupt\u001b[0m: "
     ]
    }
   ],
   "source": [
    "train_output_self(char_model, epochs=5, training_data=char_seqs, c2i=c2i)"
   ]
  },
  {
   "cell_type": "code",
   "execution_count": 14,
   "metadata": {},
   "outputs": [],
   "source": [
    "#torch.save(char_model,'char_lstm.mod')\n",
    "char_model2=torch.load('char_lstm_bi.mod')"
   ]
  },
  {
   "cell_type": "code",
   "execution_count": 10,
   "metadata": {},
   "outputs": [
    {
     "data": {
      "text/plain": [
       "3.7789344787597656e-05"
      ]
     },
     "execution_count": 10,
     "metadata": {},
     "output_type": "execute_result"
    }
   ],
   "source": [
    "from lm import compute_prob\n",
    "\n",
    "compute_prob(char_model2, \"B AH1 D ER0 F L AY2\".split(), c2i)"
   ]
  },
  {
   "cell_type": "code",
   "execution_count": 11,
   "metadata": {},
   "outputs": [
    {
     "data": {
      "text/plain": [
       "0.09517431259155273"
      ]
     },
     "execution_count": 11,
     "metadata": {},
     "output_type": "execute_result"
    }
   ],
   "source": [
    "compute_prob(char_model2, \"D B F L\".split(), c2i)"
   ]
  },
  {
   "cell_type": "code",
   "execution_count": 15,
   "metadata": {},
   "outputs": [],
   "source": [
    "embedding_weights=char_model2.input_lookup.weight\n",
    "\n",
    "\n",
    "pd.DataFrame(embedding_weights.detach().numpy())\n",
    "\n",
    "\n",
    "saveme=pd.DataFrame(embedding_weights.detach().numpy())\n",
    "\n",
    "saveme['char']=''\n",
    "\n",
    "for c, i in c2i.items():\n",
    "    saveme.loc[i,'char']=c\n",
    "\n",
    "saveme.to_csv('embedding_weights_preClass_bi.csv')\n"
   ]
  },
  {
   "cell_type": "code",
   "execution_count": 13,
   "metadata": {},
   "outputs": [],
   "source": [
    "char_modelN= NameGenerator(\n",
    "    input_vocab_size=len(c2i),\n",
    "    n_embedding_dims=32,\n",
    "    n_hidden_dims=20,\n",
    "    n_lstm_layers=1,\n",
    "    output_vocab_size=len(c2i)\n",
    ")\n",
    "embedding_weights=char_modelN.input_lookup.weight\n",
    "\n",
    "\n",
    "pd.DataFrame(embedding_weights.detach().numpy())\n",
    "\n",
    "\n",
    "saveme=pd.DataFrame(embedding_weights.detach().numpy())\n",
    "\n",
    "saveme['char']=''\n",
    "\n",
    "for c, i in c2i.items():\n",
    "    saveme.loc[i,'char']=c\n",
    "\n",
    "saveme.to_csv('embedding_weights_null.csv')\n"
   ]
  },
  {
   "cell_type": "markdown",
   "metadata": {},
   "source": [
    "\n",
    "# Binary Phonological Classifier"
   ]
  },
  {
   "cell_type": "code",
   "execution_count": 37,
   "metadata": {},
   "outputs": [],
   "source": [
    "import vocab\n",
    "from sklearn.model_selection import train_test_split\n",
    "from ast import literal_eval\n",
    "\n",
    "mappdFile='mappd_example.csv'\n",
    "mappd=pd.read_csv(mappdFile)\n",
    "\n",
    "input_label='Production.Arpabet'\n",
    "input_label_2='Target ARPAbet'\n",
    "\n",
    "training_col_1=mappd.loc[:,input_label].apply(lambda x: list(literal_eval(x)))\n",
    "training_col_2=mappd.loc[:,input_label_2].apply(lambda x: literal_eval(x)[0])\n",
    "\n",
    "codes_label='Code in our Taxonomy'\n",
    "codes=set(mappd.loc[:,codes_label])\n",
    "binary_dict={'Formal':1,'Mixed':1,\"P.R.Neologism\":1,'Semantic':0, 'Other':0,'A.Neologism':0}\n",
    "\n",
    "label_label='Phonological'\n",
    "mappd[label_label]=mappd.loc[:,codes_label].apply(lambda x: binary_dict[x])\n",
    "label_col=mappd.loc[:,label_label]\n",
    "\n",
    "X1_train, X1_test, X2_train, X2_test, y_train, y_test = train_test_split(training_col_1, training_col_2, label_col, test_size=0.33)\n",
    "X1_val, X1_test,X2_val, X2_test, y_val, y_test=train_test_split(X1_test, X2_test, y_test, test_size=0.5)\n",
    "\n",
    "\n",
    "#o2i, i2o=build_vocab(outputs, pad_syms=False)\n"
   ]
  },
  {
   "cell_type": "code",
   "execution_count": 38,
   "metadata": {},
   "outputs": [
    {
     "data": {
      "text/plain": [
       "torch.Size([1, 2])"
      ]
     },
     "execution_count": 38,
     "metadata": {},
     "output_type": "execute_result"
    }
   ],
   "source": [
    "import lm\n",
    "reload(lm)\n",
    "\n",
    "phon_model = lm.ProductionPhonClassifier(\n",
    "    input_vocab_size=len(c2i),\n",
    "    n_embedding_dims=32,\n",
    "    n_hidden_dims=20,\n",
    "    n_lstm_layers=1,\n",
    "    output_class_size=2,\n",
    "    pretrained_embedding=embedding_weights\n",
    ")\n",
    "\n",
    "x = sentence_to_tensor(\"B AH1 D ER0 F L AY2\".split(), c2i, False)\n",
    "x_p= sentence_to_tensor(\"B F L AY2\".split(), c2i, False)\n",
    "\n",
    "y_hat, lstm_hidden_state = phon_model(x_p,x, phon_model.init_hidden())\n",
    "y_hat.shape # should be 1x12x78 (1 x len(\"Test input\")+2 x len(c2i))"
   ]
  },
  {
   "cell_type": "code",
   "execution_count": 39,
   "metadata": {},
   "outputs": [
    {
     "name": "stdout",
     "output_type": "stream",
     "text": [
      "0/4690, loss: 0.7247909307479858\n",
      "1000/4690, loss: 0.4509950876235962\n",
      "2000/4690, loss: 0.7172232866287231\n",
      "3000/4690, loss: 0.4155000150203705\n",
      "4000/4690, loss: 0.8606311082839966\n",
      "0/4690, loss: 1.0418462753295898\n",
      "1000/4690, loss: 0.8177490234375\n",
      "2000/4690, loss: 0.1429152488708496\n",
      "3000/4690, loss: 0.44229763746261597\n",
      "4000/4690, loss: 0.7052188515663147\n",
      "0/4690, loss: 0.736798882484436\n",
      "1000/4690, loss: 0.12787127494812012\n",
      "2000/4690, loss: 0.2286267876625061\n",
      "3000/4690, loss: 0.4744734466075897\n",
      "4000/4690, loss: 1.2261219024658203\n",
      "0/4690, loss: 0.6000381708145142\n",
      "1000/4690, loss: 0.33415183424949646\n",
      "2000/4690, loss: 0.25707298517227173\n",
      "3000/4690, loss: 0.6477929353713989\n",
      "4000/4690, loss: 0.3898521065711975\n",
      "0/4690, loss: 0.6630539894104004\n",
      "1000/4690, loss: 0.13890516757965088\n",
      "2000/4690, loss: 0.4454132318496704\n",
      "3000/4690, loss: 0.31862008571624756\n",
      "4000/4690, loss: 2.0978927612304688\n",
      "0/4690, loss: 0.8018059134483337\n",
      "1000/4690, loss: 0.6306855082511902\n",
      "2000/4690, loss: 0.33083388209342957\n",
      "3000/4690, loss: 0.05507373809814453\n",
      "4000/4690, loss: 1.1256362199783325\n",
      "0/4690, loss: 0.09843480587005615\n",
      "1000/4690, loss: 1.0434675216674805\n",
      "2000/4690, loss: 0.471182644367218\n",
      "3000/4690, loss: 0.21089690923690796\n",
      "4000/4690, loss: 0.214580237865448\n",
      "0/4690, loss: 0.20475667715072632\n",
      "1000/4690, loss: 0.3091825842857361\n",
      "2000/4690, loss: 0.3761887848377228\n",
      "3000/4690, loss: 0.8493032455444336\n",
      "4000/4690, loss: 0.5326555967330933\n",
      "0/4690, loss: 0.6874247789382935\n",
      "1000/4690, loss: 0.4746941924095154\n",
      "2000/4690, loss: 0.2542329430580139\n",
      "3000/4690, loss: 1.2075210809707642\n",
      "4000/4690, loss: 0.11145579814910889\n",
      "0/4690, loss: 1.2033578157424927\n",
      "1000/4690, loss: 0.013210535049438477\n",
      "2000/4690, loss: 0.33015352487564087\n",
      "3000/4690, loss: 0.20300030708312988\n",
      "4000/4690, loss: 2.3530731201171875\n"
     ]
    }
   ],
   "source": [
    "reload(lm)\n",
    "phon_model=lm.train_output_binary(phon_model, epochs=10, training_inputs_1=X1_train,training_inputs_2=X2_train, c2i=c2i, training_outputs=y_train)"
   ]
  },
  {
   "cell_type": "code",
   "execution_count": 40,
   "metadata": {},
   "outputs": [],
   "source": [
    "p_embedding_weights=phon_model.input_lookup.weight\n",
    "\n",
    "\n",
    "saveme=pd.DataFrame(p_embedding_weights.detach().numpy())\n",
    "\n",
    "saveme['char']=''\n",
    "\n",
    "for c, i in c2i.items():\n",
    "    saveme.loc[i,'char']=c\n",
    "\n",
    "saveme.to_csv('embedding_weights_PhonClass')\n"
   ]
  },
  {
   "cell_type": "code",
   "execution_count": 41,
   "metadata": {},
   "outputs": [
    {
     "name": "stdout",
     "output_type": "stream",
     "text": [
      "             precision    recall  f1-score   support\n",
      "\n",
      "          0       0.75      0.68      0.71      1963\n",
      "          1       0.78      0.83      0.81      2727\n",
      "\n",
      "avg / total       0.77      0.77      0.77      4690\n",
      "\n",
      "Accuracy: 0.7680170575692964\n"
     ]
    }
   ],
   "source": [
    "from sklearn.metrics import classification_report, confusion_matrix\n",
    "\n",
    "eval_pd=pd.DataFrame()\n",
    "eval_pd['X1']=X1_train\n",
    "eval_pd['X2']=X2_train\n",
    "eval_pd['y']=y_train\n",
    "\n",
    "acc, predictions=lm.eval_acc_binary(phon_model, eval_pd, c2i, i2c)\n",
    "eval_pd['yhat']=predictions\n",
    "\n",
    "print(classification_report(y_train, predictions))\n",
    "print('Accuracy:',acc)"
   ]
  },
  {
   "cell_type": "code",
   "execution_count": null,
   "metadata": {},
   "outputs": [],
   "source": []
  },
  {
   "cell_type": "code",
   "execution_count": 41,
   "metadata": {},
   "outputs": [
    {
     "data": {
      "image/png": "[encoded data removed]",
      "text/plain": [
       "<Figure size 432x288 with 2 Axes>"
      ]
     },
     "metadata": {
      "needs_background": "light"
     },
     "output_type": "display_data"
    }
   ],
   "source": [
    "cm = confusion_matrix(y_train, predictions)\n",
    "lm.pretty_conf_matrix(cm, [0,1])"
   ]
  },
  {
   "cell_type": "code",
   "execution_count": 72,
   "metadata": {},
   "outputs": [
    {
     "data": {
      "text/html": [
       "<div>\n",
       "<style scoped>\n",
       "    .dataframe tbody tr th:only-of-type {\n",
       "        vertical-align: middle;\n",
       "    }\n",
       "\n",
       "    .dataframe tbody tr th {\n",
       "        vertical-align: top;\n",
       "    }\n",
       "\n",
       "    .dataframe thead th {\n",
       "        text-align: right;\n",
       "    }\n",
       "</style>\n",
       "<table border=\"1\" class=\"dataframe\">\n",
       "  <thead>\n",
       "    <tr style=\"text-align: right;\">\n",
       "      <th></th>\n",
       "      <th>X1</th>\n",
       "      <th>X2</th>\n",
       "      <th>yhat</th>\n",
       "      <th>codes</th>\n",
       "      <th>correct</th>\n",
       "      <th>P.ortho</th>\n",
       "      <th>T.ortho</th>\n",
       "    </tr>\n",
       "    <tr>\n",
       "      <th>y</th>\n",
       "      <th></th>\n",
       "      <th></th>\n",
       "      <th></th>\n",
       "      <th></th>\n",
       "      <th></th>\n",
       "      <th></th>\n",
       "      <th></th>\n",
       "    </tr>\n",
       "  </thead>\n",
       "  <tbody>\n",
       "    <tr>\n",
       "      <th>0</th>\n",
       "      <td>489</td>\n",
       "      <td>489</td>\n",
       "      <td>489</td>\n",
       "      <td>489</td>\n",
       "      <td>489</td>\n",
       "      <td>389</td>\n",
       "      <td>489</td>\n",
       "    </tr>\n",
       "    <tr>\n",
       "      <th>1</th>\n",
       "      <td>666</td>\n",
       "      <td>666</td>\n",
       "      <td>666</td>\n",
       "      <td>666</td>\n",
       "      <td>666</td>\n",
       "      <td>361</td>\n",
       "      <td>666</td>\n",
       "    </tr>\n",
       "  </tbody>\n",
       "</table>\n",
       "</div>"
      ],
      "text/plain": [
       "    X1   X2  yhat  codes  correct  P.ortho  T.ortho\n",
       "y                                                  \n",
       "0  489  489   489    489      489      389      489\n",
       "1  666  666   666    666      666      361      666"
      ]
     },
     "execution_count": 72,
     "metadata": {},
     "output_type": "execute_result"
    }
   ],
   "source": [
    "eval_pd['codes']=mappd[codes_label]\n",
    "eval_pd['correct']= eval_pd['y']==eval_pd['yhat']\n",
    "\n",
    "eval_pd.groupby(['y']).count()"
   ]
  },
  {
   "cell_type": "code",
   "execution_count": 49,
   "metadata": {},
   "outputs": [
    {
     "name": "stdout",
     "output_type": "stream",
     "text": [
      "             precision    recall  f1-score   support\n",
      "\n",
      "          0       0.59      0.60      0.60       489\n",
      "          1       0.70      0.70      0.70       666\n",
      "\n",
      "avg / total       0.66      0.66      0.66      1155\n",
      "\n",
      "Accuracy: 0.6571428571428571\n"
     ]
    }
   ],
   "source": [
    "from sklearn.metrics import classification_report, confusion_matrix\n",
    "\n",
    "eval_pd=pd.DataFrame()\n",
    "eval_pd['X1']=X1_val\n",
    "eval_pd['X2']=X2_val\n",
    "eval_pd['y']=y_val\n",
    "\n",
    "acc, predictions=lm.eval_acc_binary(phon_model, eval_pd, c2i, i2c)\n",
    "eval_pd['yhat']=predictions\n",
    "\n",
    "print(classification_report(y_val, predictions))\n",
    "print('Accuracy:',acc)"
   ]
  },
  {
   "cell_type": "code",
   "execution_count": 50,
   "metadata": {},
   "outputs": [
    {
     "data": {
      "image/png": "[encoded data removed]",
      "text/plain": [
       "<Figure size 432x288 with 2 Axes>"
      ]
     },
     "metadata": {
      "needs_background": "light"
     },
     "output_type": "display_data"
    }
   ],
   "source": [
    "cm = confusion_matrix(y_val, predictions)\n",
    "lm.pretty_conf_matrix(cm, [0,1])"
   ]
  },
  {
   "cell_type": "code",
   "execution_count": 90,
   "metadata": {},
   "outputs": [
    {
     "data": {
      "text/html": [
       "<div>\n",
       "<style scoped>\n",
       "    .dataframe tbody tr th:only-of-type {\n",
       "        vertical-align: middle;\n",
       "    }\n",
       "\n",
       "    .dataframe tbody tr th {\n",
       "        vertical-align: top;\n",
       "    }\n",
       "\n",
       "    .dataframe thead th {\n",
       "        text-align: right;\n",
       "    }\n",
       "</style>\n",
       "<table border=\"1\" class=\"dataframe\">\n",
       "  <thead>\n",
       "    <tr style=\"text-align: right;\">\n",
       "      <th></th>\n",
       "      <th>X1</th>\n",
       "      <th>X2</th>\n",
       "      <th>y</th>\n",
       "      <th>yhat</th>\n",
       "      <th>codes</th>\n",
       "      <th>correct</th>\n",
       "      <th>P.ortho</th>\n",
       "      <th>T.ortho</th>\n",
       "    </tr>\n",
       "  </thead>\n",
       "  <tbody>\n",
       "    <tr>\n",
       "      <th>1781</th>\n",
       "      <td>[D, AY1, N, AH, S, AO, R]</td>\n",
       "      <td>[TH, ER0, M, AA1, M, AH0, D, ER0]</td>\n",
       "      <td>1</td>\n",
       "      <td>1</td>\n",
       "      <td>Formal</td>\n",
       "      <td>True</td>\n",
       "      <td>dinosaur</td>\n",
       "      <td>thermometer</td>\n",
       "    </tr>\n",
       "    <tr>\n",
       "      <th>6854</th>\n",
       "      <td>[B, IH1, T, S]</td>\n",
       "      <td>[TH, ER0, M, AA1, M, AH0, D, ER0]</td>\n",
       "      <td>0</td>\n",
       "      <td>0</td>\n",
       "      <td>Other</td>\n",
       "      <td>True</td>\n",
       "      <td>bits</td>\n",
       "      <td>thermometer</td>\n",
       "    </tr>\n",
       "    <tr>\n",
       "      <th>106</th>\n",
       "      <td>[TH, ER1, M, AH, S, T, AE, T]</td>\n",
       "      <td>[TH, ER0, M, AA1, M, AH0, D, ER0]</td>\n",
       "      <td>0</td>\n",
       "      <td>0</td>\n",
       "      <td>Semantic</td>\n",
       "      <td>True</td>\n",
       "      <td>thermostat</td>\n",
       "      <td>thermometer</td>\n",
       "    </tr>\n",
       "    <tr>\n",
       "      <th>2274</th>\n",
       "      <td>[TH, ER1, M, AH, S, T, AE, T]</td>\n",
       "      <td>[TH, ER0, M, AA1, M, AH0, D, ER0]</td>\n",
       "      <td>0</td>\n",
       "      <td>0</td>\n",
       "      <td>Semantic</td>\n",
       "      <td>True</td>\n",
       "      <td>thermostat</td>\n",
       "      <td>thermometer</td>\n",
       "    </tr>\n",
       "  </tbody>\n",
       "</table>\n",
       "</div>"
      ],
      "text/plain": [
       "                                 X1                                 X2  y  \\\n",
       "1781      [D, AY1, N, AH, S, AO, R]  [TH, ER0, M, AA1, M, AH0, D, ER0]  1   \n",
       "6854                 [B, IH1, T, S]  [TH, ER0, M, AA1, M, AH0, D, ER0]  0   \n",
       "106   [TH, ER1, M, AH, S, T, AE, T]  [TH, ER0, M, AA1, M, AH0, D, ER0]  0   \n",
       "2274  [TH, ER1, M, AH, S, T, AE, T]  [TH, ER0, M, AA1, M, AH0, D, ER0]  0   \n",
       "\n",
       "      yhat     codes  correct     P.ortho      T.ortho  \n",
       "1781     1    Formal     True    dinosaur  thermometer  \n",
       "6854     0     Other     True        bits  thermometer  \n",
       "106      0  Semantic     True  thermostat  thermometer  \n",
       "2274     0  Semantic     True  thermostat  thermometer  "
      ]
     },
     "execution_count": 90,
     "metadata": {},
     "output_type": "execute_result"
    }
   ],
   "source": [
    "eval_pd['codes']=mappd[codes_label]\n",
    "eval_pd['P.ortho']=mappd['Production.Orthographic']\n",
    "eval_pd['T.ortho']=mappd['Target']\n",
    "eval_pd['correct']= eval_pd['y']==eval_pd['yhat']\n",
    "\n",
    "\n",
    "#eval_pd[eval_pd.codes.isin(['Semantic'])].dropna().sort_values(['correct','codes'])\n",
    "\n",
    "#eval_pd.groupby(['T.ortho', 'y','yhat']).sum().to_csv('+-Pbyword.csv')\n",
    "eval_pd[eval_pd.loc[:,'T.ortho'].isin(['thermometer'])].dropna().sort_values(['correct','codes'])\n"
   ]
  },
  {
   "cell_type": "markdown",
   "metadata": {},
   "source": [
    "# LSTM 2"
   ]
  },
  {
   "cell_type": "code",
   "execution_count": 20,
   "metadata": {},
   "outputs": [],
   "source": [
    "import vocab\n",
    "from sklearn.model_selection import train_test_split\n",
    "from ast import literal_eval\n",
    "\n",
    "mappdFile='mappd_example.csv'\n",
    "mappd=pd.read_csv(mappdFile)\n",
    "\n",
    "output_label='Code in our Taxonomy'\n",
    "outputs=set(mappd.loc[:,output_label])\n",
    "o2i, i2o=build_vocab(outputs, pad_syms=False)\n",
    "\n",
    "\n",
    "input_label='Production.Arpabet'\n",
    "input_label_2='Target ARPAbet'\n",
    "\n",
    "training_col_1=mappd.loc[:,input_label].apply(lambda x: list(literal_eval(x)))\n",
    "training_col_2=mappd.loc[:,input_label_2].apply(lambda x: literal_eval(x)[0])\n",
    "\n",
    "label_col=mappd.loc[:,output_label]\n",
    "\n",
    "X1_train, X1_test, X2_train, X2_test, y_train, y_test = train_test_split(training_col_1, training_col_2, label_col, test_size=0.33)\n",
    "X1_val, X1_test,X2_val, X2_test, y_val, y_test=train_test_split(X1_test, X2_test, y_test, test_size=0.5)\n"
   ]
  },
  {
   "cell_type": "code",
   "execution_count": 17,
   "metadata": {},
   "outputs": [
    {
     "data": {
      "text/plain": [
       "torch.Size([1, 6])"
      ]
     },
     "execution_count": 17,
     "metadata": {},
     "output_type": "execute_result"
    }
   ],
   "source": [
    "import lm\n",
    "reload(lm)\n",
    "\n",
    "model2 = lm.ProductionClassifier2(\n",
    "    input_vocab_size=len(c2i),\n",
    "    n_embedding_dims=32,\n",
    "    n_hidden_dims=20,\n",
    "    n_lstm_layers=1,\n",
    "    output_class_size=len(outputs),\n",
    "    pretrained_embedding=embedding_weights\n",
    ")\n",
    "\n",
    "x = sentence_to_tensor(\"B AH1 D ER0 F L AY2\".split(), c2i, False)\n",
    "x_p= sentence_to_tensor(\"B F L AY2\".split(), c2i, False)\n",
    "\n",
    "y_hat, lstm_hidden_state = model2(x_p,x, model2.init_hidden())\n",
    "y_hat.shape # should be 1x12x78 (1 x len(\"Test input\")+2 x len(c2i))"
   ]
  },
  {
   "cell_type": "code",
   "execution_count": 21,
   "metadata": {},
   "outputs": [
    {
     "name": "stdout",
     "output_type": "stream",
     "text": [
      "0/4690, loss: 1.0943888425827026\n",
      "1000/4690, loss: 1.1017417907714844\n",
      "2000/4690, loss: 0.39940953254699707\n",
      "3000/4690, loss: 1.6374297142028809\n",
      "4000/4690, loss: 0.9147272109985352\n",
      "0/4690, loss: 0.8910541534423828\n",
      "1000/4690, loss: 2.430110216140747\n",
      "2000/4690, loss: 2.5431835651397705\n",
      "3000/4690, loss: 0.5326027870178223\n",
      "4000/4690, loss: 3.5679574012756348\n",
      "0/4690, loss: 2.7371878623962402\n",
      "1000/4690, loss: 0.887198805809021\n",
      "2000/4690, loss: 2.92490816116333\n",
      "3000/4690, loss: 0.9368488788604736\n",
      "4000/4690, loss: 0.6155571937561035\n",
      "0/4690, loss: 3.749026298522949\n",
      "1000/4690, loss: 1.1131742000579834\n",
      "2000/4690, loss: 3.081941604614258\n",
      "3000/4690, loss: 1.88386869430542\n",
      "4000/4690, loss: 1.7404918670654297\n",
      "0/4690, loss: 0.393949031829834\n",
      "1000/4690, loss: 2.2544941902160645\n",
      "2000/4690, loss: 0.398331880569458\n",
      "3000/4690, loss: 1.960289478302002\n",
      "4000/4690, loss: 1.6636217832565308\n",
      "0/4690, loss: 1.8733487129211426\n",
      "1000/4690, loss: 0.260317325592041\n",
      "2000/4690, loss: 0.05130720138549805\n",
      "3000/4690, loss: 1.195273995399475\n",
      "4000/4690, loss: 0.9473738670349121\n",
      "0/4690, loss: 1.9233710765838623\n",
      "1000/4690, loss: 1.00321364402771\n",
      "2000/4690, loss: 0.7465000152587891\n",
      "3000/4690, loss: 0.9454777240753174\n",
      "4000/4690, loss: 0.4715547561645508\n",
      "0/4690, loss: 0.22792625427246094\n",
      "1000/4690, loss: 3.4207277297973633\n",
      "2000/4690, loss: 0.28064870834350586\n",
      "3000/4690, loss: 1.0111122131347656\n",
      "4000/4690, loss: 0.8280602693557739\n",
      "0/4690, loss: 1.4598604440689087\n",
      "1000/4690, loss: 0.5749075412750244\n",
      "2000/4690, loss: 1.0186256170272827\n",
      "3000/4690, loss: 1.2850207090377808\n",
      "4000/4690, loss: 0.5082540512084961\n",
      "0/4690, loss: 0.33585286140441895\n",
      "1000/4690, loss: 0.9994910955429077\n",
      "2000/4690, loss: 0.3273885250091553\n",
      "3000/4690, loss: 1.2424805164337158\n",
      "4000/4690, loss: 1.0222312211990356\n"
     ]
    }
   ],
   "source": [
    "model2=lm.train_output_y2(model2, epochs=10, training_inputs_1=X1_train,training_inputs_2=X2_train, c2i=c2i, training_outputs=y_train, o2i=o2i)"
   ]
  },
  {
   "cell_type": "code",
   "execution_count": 22,
   "metadata": {},
   "outputs": [],
   "source": [
    "c_embedding_weights=model2.input_lookup.weight\n",
    "saveme=pd.DataFrame(p_embedding_weights.detach().numpy())\n",
    "p_embedding_weights=phon_model.input_lookup.weight\n",
    "saveme['char']=''\n",
    "\n",
    "for c, i in c2i.items():\n",
    "    saveme.loc[i,'char']=c\n",
    "\n",
    "saveme.to_csv('embedding_weights_2Class.csv')"
   ]
  },
  {
   "cell_type": "code",
   "execution_count": 20,
   "metadata": {},
   "outputs": [
    {
     "data": {
      "image/png": "[encoded data removed]",
      "text/plain": [
       "<Figure size 432x288 with 2 Axes>"
      ]
     },
     "metadata": {
      "needs_background": "light"
     },
     "output_type": "display_data"
    }
   ],
   "source": [
    "from sklearn.metrics import classification_report, confusion_matrix\n",
    "\n",
    "eval_pd=pd.DataFrame()\n",
    "eval_pd['X1']=X1_train\n",
    "eval_pd['X2']=X2_train\n",
    "eval_pd['y']=y_train\n",
    "\n",
    "acc, predictions=lm.eval_acc2(model2, eval_pd, c2i, i2c, o2i, i2o)\n",
    "eval_pd['yhat']=predictions\n",
    "\n",
    "cm = confusion_matrix(y_train, predictions)\n",
    "lm.pretty_conf_matrix(cm, ['A.Neo','Formal','Mixed','Other','PR.Neo','Semantic'])\n"
   ]
  },
  {
   "cell_type": "code",
   "execution_count": 21,
   "metadata": {},
   "outputs": [
    {
     "data": {
      "text/plain": [
       "0.573773987206823"
      ]
     },
     "execution_count": 21,
     "metadata": {},
     "output_type": "execute_result"
    }
   ],
   "source": [
    "acc"
   ]
  },
  {
   "cell_type": "code",
   "execution_count": null,
   "metadata": {},
   "outputs": [],
   "source": []
  },
  {
   "cell_type": "code",
   "execution_count": 22,
   "metadata": {},
   "outputs": [
    {
     "data": {
      "image/png": "[encoded data removed]",
      "text/plain": [
       "<Figure size 432x288 with 2 Axes>"
      ]
     },
     "metadata": {
      "needs_background": "light"
     },
     "output_type": "display_data"
    }
   ],
   "source": [
    "eval_pd=pd.DataFrame()\n",
    "eval_pd['X1']=X1_val\n",
    "eval_pd['X2']=X2_val\n",
    "eval_pd['y']=y_val\n",
    "\n",
    "acc, predictions=lm.eval_acc2(model2, eval_pd, c2i, i2c, o2i, i2o)\n",
    "eval_pd['yhat']=predictions\n",
    "\n",
    "cm = confusion_matrix(y_val, predictions)\n",
    "lm.pretty_conf_matrix(cm, ['A.Neo','Formal','Mixed','Other','PR.Neo','Semantic'])\n"
   ]
  },
  {
   "cell_type": "code",
   "execution_count": 23,
   "metadata": {},
   "outputs": [
    {
     "name": "stdout",
     "output_type": "stream",
     "text": [
      "               precision    recall  f1-score   support\n",
      "\n",
      "  A.Neologism       0.25      0.13      0.17       110\n",
      "       Formal       0.42      0.48      0.45       262\n",
      "        Mixed       0.46      0.24      0.32        95\n",
      "        Other       0.36      0.25      0.29       190\n",
      "P.R.Neologism       0.48      0.67      0.56       330\n",
      "     Semantic       0.45      0.42      0.43       168\n",
      "\n",
      "  avg / total       0.42      0.44      0.42      1155\n",
      "\n"
     ]
    }
   ],
   "source": [
    "\n",
    "print(classification_report(y_val, predictions))"
   ]
  },
  {
   "cell_type": "code",
   "execution_count": null,
   "metadata": {},
   "outputs": [],
   "source": []
  },
  {
   "cell_type": "code",
   "execution_count": null,
   "metadata": {},
   "outputs": [],
   "source": []
  },
  {
   "cell_type": "markdown",
   "metadata": {},
   "source": [
    "# LSTM 1"
   ]
  },
  {
   "cell_type": "code",
   "execution_count": 24,
   "metadata": {
    "scrolled": true
   },
   "outputs": [
    {
     "data": {
      "text/html": [
       "<div>\n",
       "<style scoped>\n",
       "    .dataframe tbody tr th:only-of-type {\n",
       "        vertical-align: middle;\n",
       "    }\n",
       "\n",
       "    .dataframe tbody tr th {\n",
       "        vertical-align: top;\n",
       "    }\n",
       "\n",
       "    .dataframe thead th {\n",
       "        text-align: right;\n",
       "    }\n",
       "</style>\n",
       "<table border=\"1\" class=\"dataframe\">\n",
       "  <thead>\n",
       "    <tr style=\"text-align: right;\">\n",
       "      <th></th>\n",
       "      <th>ID</th>\n",
       "      <th>Months.Post.Onset</th>\n",
       "      <th>Production</th>\n",
       "      <th>Target</th>\n",
       "      <th>Code</th>\n",
       "      <th>Production.Orthographic</th>\n",
       "      <th>Production.Arpabet</th>\n",
       "      <th>DX</th>\n",
       "      <th>Production.Orig</th>\n",
       "      <th>SUBTLEX Frequency</th>\n",
       "      <th>W2V Similarity</th>\n",
       "      <th>Morphological Relatedness</th>\n",
       "      <th>Correct Attempt</th>\n",
       "      <th>Correct Attempt (Phono)</th>\n",
       "      <th>PNT Phonological Similarity Rationale</th>\n",
       "      <th>Target ARPAbet</th>\n",
       "      <th>PNT Phonological Similarity</th>\n",
       "      <th>Rule-Based Binary Decision Tree</th>\n",
       "    </tr>\n",
       "    <tr>\n",
       "      <th>Code in our Taxonomy</th>\n",
       "      <th></th>\n",
       "      <th></th>\n",
       "      <th></th>\n",
       "      <th></th>\n",
       "      <th></th>\n",
       "      <th></th>\n",
       "      <th></th>\n",
       "      <th></th>\n",
       "      <th></th>\n",
       "      <th></th>\n",
       "      <th></th>\n",
       "      <th></th>\n",
       "      <th></th>\n",
       "      <th></th>\n",
       "      <th></th>\n",
       "      <th></th>\n",
       "      <th></th>\n",
       "      <th></th>\n",
       "    </tr>\n",
       "  </thead>\n",
       "  <tbody>\n",
       "    <tr>\n",
       "      <th>A.Neologism</th>\n",
       "      <td>654</td>\n",
       "      <td>654</td>\n",
       "      <td>654</td>\n",
       "      <td>654</td>\n",
       "      <td>654</td>\n",
       "      <td>95</td>\n",
       "      <td>654</td>\n",
       "      <td>654</td>\n",
       "      <td>654</td>\n",
       "      <td>654</td>\n",
       "      <td>654</td>\n",
       "      <td>654</td>\n",
       "      <td>654</td>\n",
       "      <td>654</td>\n",
       "      <td>654</td>\n",
       "      <td>654</td>\n",
       "      <td>654</td>\n",
       "      <td>654</td>\n",
       "    </tr>\n",
       "    <tr>\n",
       "      <th>Formal</th>\n",
       "      <td>1447</td>\n",
       "      <td>1447</td>\n",
       "      <td>1447</td>\n",
       "      <td>1447</td>\n",
       "      <td>1447</td>\n",
       "      <td>1447</td>\n",
       "      <td>1447</td>\n",
       "      <td>1447</td>\n",
       "      <td>1447</td>\n",
       "      <td>1447</td>\n",
       "      <td>1447</td>\n",
       "      <td>1447</td>\n",
       "      <td>1447</td>\n",
       "      <td>1447</td>\n",
       "      <td>1447</td>\n",
       "      <td>1447</td>\n",
       "      <td>1447</td>\n",
       "      <td>1447</td>\n",
       "    </tr>\n",
       "    <tr>\n",
       "      <th>Mixed</th>\n",
       "      <td>634</td>\n",
       "      <td>634</td>\n",
       "      <td>634</td>\n",
       "      <td>634</td>\n",
       "      <td>634</td>\n",
       "      <td>634</td>\n",
       "      <td>634</td>\n",
       "      <td>634</td>\n",
       "      <td>634</td>\n",
       "      <td>634</td>\n",
       "      <td>634</td>\n",
       "      <td>634</td>\n",
       "      <td>634</td>\n",
       "      <td>634</td>\n",
       "      <td>634</td>\n",
       "      <td>634</td>\n",
       "      <td>634</td>\n",
       "      <td>634</td>\n",
       "    </tr>\n",
       "    <tr>\n",
       "      <th>Other</th>\n",
       "      <td>1190</td>\n",
       "      <td>1190</td>\n",
       "      <td>1190</td>\n",
       "      <td>1190</td>\n",
       "      <td>1190</td>\n",
       "      <td>1136</td>\n",
       "      <td>1190</td>\n",
       "      <td>1190</td>\n",
       "      <td>1190</td>\n",
       "      <td>1190</td>\n",
       "      <td>1190</td>\n",
       "      <td>1190</td>\n",
       "      <td>1190</td>\n",
       "      <td>1190</td>\n",
       "      <td>1190</td>\n",
       "      <td>1190</td>\n",
       "      <td>1190</td>\n",
       "      <td>1190</td>\n",
       "    </tr>\n",
       "    <tr>\n",
       "      <th>P.R.Neologism</th>\n",
       "      <td>1982</td>\n",
       "      <td>1982</td>\n",
       "      <td>1982</td>\n",
       "      <td>1982</td>\n",
       "      <td>1982</td>\n",
       "      <td>218</td>\n",
       "      <td>1982</td>\n",
       "      <td>1982</td>\n",
       "      <td>1982</td>\n",
       "      <td>1982</td>\n",
       "      <td>1982</td>\n",
       "      <td>1982</td>\n",
       "      <td>1982</td>\n",
       "      <td>1982</td>\n",
       "      <td>1982</td>\n",
       "      <td>1982</td>\n",
       "      <td>1982</td>\n",
       "      <td>1982</td>\n",
       "    </tr>\n",
       "    <tr>\n",
       "      <th>Semantic</th>\n",
       "      <td>1094</td>\n",
       "      <td>1094</td>\n",
       "      <td>1094</td>\n",
       "      <td>1094</td>\n",
       "      <td>1094</td>\n",
       "      <td>1094</td>\n",
       "      <td>1094</td>\n",
       "      <td>1094</td>\n",
       "      <td>1094</td>\n",
       "      <td>1094</td>\n",
       "      <td>1094</td>\n",
       "      <td>1094</td>\n",
       "      <td>1094</td>\n",
       "      <td>1094</td>\n",
       "      <td>1094</td>\n",
       "      <td>1094</td>\n",
       "      <td>1094</td>\n",
       "      <td>1094</td>\n",
       "    </tr>\n",
       "  </tbody>\n",
       "</table>\n",
       "</div>"
      ],
      "text/plain": [
       "                        ID  Months.Post.Onset  Production  Target  Code  \\\n",
       "Code in our Taxonomy                                                      \n",
       "A.Neologism            654                654         654     654   654   \n",
       "Formal                1447               1447        1447    1447  1447   \n",
       "Mixed                  634                634         634     634   634   \n",
       "Other                 1190               1190        1190    1190  1190   \n",
       "P.R.Neologism         1982               1982        1982    1982  1982   \n",
       "Semantic              1094               1094        1094    1094  1094   \n",
       "\n",
       "                      Production.Orthographic  Production.Arpabet    DX  \\\n",
       "Code in our Taxonomy                                                      \n",
       "A.Neologism                                95                 654   654   \n",
       "Formal                                   1447                1447  1447   \n",
       "Mixed                                     634                 634   634   \n",
       "Other                                    1136                1190  1190   \n",
       "P.R.Neologism                             218                1982  1982   \n",
       "Semantic                                 1094                1094  1094   \n",
       "\n",
       "                      Production.Orig  SUBTLEX Frequency  W2V Similarity  \\\n",
       "Code in our Taxonomy                                                       \n",
       "A.Neologism                       654                654             654   \n",
       "Formal                           1447               1447            1447   \n",
       "Mixed                             634                634             634   \n",
       "Other                            1190               1190            1190   \n",
       "P.R.Neologism                    1982               1982            1982   \n",
       "Semantic                         1094               1094            1094   \n",
       "\n",
       "                      Morphological Relatedness  Correct Attempt  \\\n",
       "Code in our Taxonomy                                               \n",
       "A.Neologism                                 654              654   \n",
       "Formal                                     1447             1447   \n",
       "Mixed                                       634              634   \n",
       "Other                                      1190             1190   \n",
       "P.R.Neologism                              1982             1982   \n",
       "Semantic                                   1094             1094   \n",
       "\n",
       "                      Correct Attempt (Phono)  \\\n",
       "Code in our Taxonomy                            \n",
       "A.Neologism                               654   \n",
       "Formal                                   1447   \n",
       "Mixed                                     634   \n",
       "Other                                    1190   \n",
       "P.R.Neologism                            1982   \n",
       "Semantic                                 1094   \n",
       "\n",
       "                      PNT Phonological Similarity Rationale  Target ARPAbet  \\\n",
       "Code in our Taxonomy                                                          \n",
       "A.Neologism                                             654             654   \n",
       "Formal                                                 1447            1447   \n",
       "Mixed                                                   634             634   \n",
       "Other                                                  1190            1190   \n",
       "P.R.Neologism                                          1982            1982   \n",
       "Semantic                                               1094            1094   \n",
       "\n",
       "                      PNT Phonological Similarity  \\\n",
       "Code in our Taxonomy                                \n",
       "A.Neologism                                   654   \n",
       "Formal                                       1447   \n",
       "Mixed                                         634   \n",
       "Other                                        1190   \n",
       "P.R.Neologism                                1982   \n",
       "Semantic                                     1094   \n",
       "\n",
       "                      Rule-Based Binary Decision Tree  \n",
       "Code in our Taxonomy                                   \n",
       "A.Neologism                                       654  \n",
       "Formal                                           1447  \n",
       "Mixed                                             634  \n",
       "Other                                            1190  \n",
       "P.R.Neologism                                    1982  \n",
       "Semantic                                         1094  "
      ]
     },
     "execution_count": 24,
     "metadata": {},
     "output_type": "execute_result"
    }
   ],
   "source": [
    "mappdFile='paralg/mappd_example.csv'\n",
    "mappd=pd.read_csv(mappdFile)\n",
    "mappd.groupby('Code in our Taxonomy').count()"
   ]
  },
  {
   "cell_type": "code",
   "execution_count": 25,
   "metadata": {},
   "outputs": [],
   "source": [
    "import vocab\n",
    "from sklearn.model_selection import train_test_split\n",
    "from ast import literal_eval\n",
    "\n",
    "output_label='Code in our Taxonomy'\n",
    "outputs=set(mappd.loc[:,output_label])\n",
    "o2i, i2o=build_vocab(outputs, pad_syms=False)\n",
    "\n",
    "input_label='Production.Arpabet'\n",
    "input_label_2='Target ARPAbet'\n",
    "\n",
    "training_col_1=mappd.loc[:,input_label].apply(lambda x: list(literal_eval(x)))\n",
    "training_col_2=mappd.loc[:,input_label_2].apply(lambda x: literal_eval(x)[0])\n",
    "\n",
    "label_col=mappd.loc[:,output_label]\n",
    "\n",
    "X1_train, X1_test, X2_train, X2_test, y_train, y_test = train_test_split(training_col_1, training_col_2, label_col, test_size=0.33)\n",
    "X1_val, X1_test,X2_val, X2_test, y_val, y_test=train_test_split(X1_test, X2_test, y_test, test_size=0.5)"
   ]
  },
  {
   "cell_type": "code",
   "execution_count": 26,
   "metadata": {},
   "outputs": [
    {
     "data": {
      "text/plain": [
       "torch.Size([1, 6])"
      ]
     },
     "execution_count": 26,
     "metadata": {},
     "output_type": "execute_result"
    }
   ],
   "source": [
    "import lm\n",
    "from lm import ProductionClassifier, train_output_y\n",
    "\n",
    "\n",
    "model = lm.ProductionClassifier(\n",
    "    input_vocab_size=len(c2i),\n",
    "    n_embedding_dims=32,\n",
    "    n_hidden_dims=20,\n",
    "    n_lstm_layers=1,\n",
    "    output_class_size=len(outputs),\n",
    "    pretrained_embedding=embedding_weights\n",
    ")\n",
    "\n",
    "x = sentence_to_tensor(\"B AH1 D ER0 F L AY2\".split(), c2i, False)\n",
    "y_hat, lstm_hidden_state = model(x, model.init_hidden())\n",
    "y_hat.shape # should be 1x12x78 (1 x len(\"Test input\")+2 x len(c2i))"
   ]
  },
  {
   "cell_type": "code",
   "execution_count": 27,
   "metadata": {
    "scrolled": true
   },
   "outputs": [
    {
     "name": "stdout",
     "output_type": "stream",
     "text": [
      "0/4690, loss: 1.6940028667449951\n",
      "1000/4690, loss: 2.0222296714782715\n",
      "2000/4690, loss: 1.3974958658218384\n",
      "3000/4690, loss: 0.6731586456298828\n",
      "4000/4690, loss: 0.8299750089645386\n",
      "0/4690, loss: 1.212575912475586\n",
      "1000/4690, loss: 0.7603611946105957\n",
      "2000/4690, loss: 0.3735477924346924\n",
      "3000/4690, loss: 1.3825691938400269\n",
      "4000/4690, loss: 2.4831647872924805\n",
      "0/4690, loss: 3.29910945892334\n",
      "1000/4690, loss: 1.0749566555023193\n",
      "2000/4690, loss: 0.8364678621292114\n",
      "3000/4690, loss: 1.552782654762268\n",
      "4000/4690, loss: 0.8734230995178223\n",
      "0/4690, loss: 1.3734296560287476\n",
      "1000/4690, loss: 3.334383964538574\n",
      "2000/4690, loss: 2.4601094722747803\n",
      "3000/4690, loss: 0.6516053676605225\n",
      "4000/4690, loss: 1.0247734785079956\n",
      "0/4690, loss: 2.478022813796997\n",
      "1000/4690, loss: 0.8577442169189453\n",
      "2000/4690, loss: 2.565723419189453\n",
      "3000/4690, loss: 0.6020333766937256\n",
      "4000/4690, loss: 1.2614598274230957\n",
      "0/4690, loss: 1.4508730173110962\n",
      "1000/4690, loss: 2.357578754425049\n",
      "2000/4690, loss: 0.2486279010772705\n",
      "3000/4690, loss: 0.15855860710144043\n",
      "4000/4690, loss: 0.3759211301803589\n",
      "0/4690, loss: 1.3830986022949219\n",
      "1000/4690, loss: 0.9238588809967041\n",
      "2000/4690, loss: 1.5438873767852783\n",
      "3000/4690, loss: 0.8293452262878418\n",
      "4000/4690, loss: 0.5382530689239502\n",
      "0/4690, loss: 0.5781161785125732\n",
      "1000/4690, loss: 2.297227621078491\n",
      "2000/4690, loss: 2.5014331340789795\n",
      "3000/4690, loss: 0.39561736583709717\n",
      "4000/4690, loss: 1.117913007736206\n",
      "0/4690, loss: 1.722605586051941\n",
      "1000/4690, loss: 1.0579814910888672\n",
      "2000/4690, loss: 0.845599889755249\n",
      "3000/4690, loss: 0.9130026698112488\n",
      "4000/4690, loss: 4.060017108917236\n",
      "0/4690, loss: 0.5821847915649414\n",
      "1000/4690, loss: 0.2099931240081787\n",
      "2000/4690, loss: 0.9129360914230347\n",
      "3000/4690, loss: 0.6545298099517822\n",
      "4000/4690, loss: 1.0285261869430542\n"
     ]
    }
   ],
   "source": [
    "model=lm.train_output_y(model, epochs=10, training_inputs_1=X1_train,training_inputs_2=X2_train, c2i=c2i, training_outputs=y_train, o2i=o2i)"
   ]
  },
  {
   "cell_type": "code",
   "execution_count": 28,
   "metadata": {},
   "outputs": [
    {
     "data": {
      "text/plain": [
       "0.593816631130064"
      ]
     },
     "execution_count": 28,
     "metadata": {},
     "output_type": "execute_result"
    }
   ],
   "source": [
    "eval_pd=pd.DataFrame()\n",
    "eval_pd['X1']=X1_train\n",
    "eval_pd['X2']=X2_train\n",
    "eval_pd['y']=y_train\n",
    "\n",
    "acc, predictions=lm.eval_acc(model, eval_pd, c2i, i2c, o2i, i2o)\n",
    "eval_pd['yhat']=predictions\n",
    "\n",
    "acc"
   ]
  },
  {
   "cell_type": "code",
   "execution_count": 29,
   "metadata": {},
   "outputs": [
    {
     "name": "stdout",
     "output_type": "stream",
     "text": [
      "               precision    recall  f1-score   support\n",
      "\n",
      "  A.Neologism       0.52      0.26      0.35       431\n",
      "       Formal       0.58      0.52      0.55       952\n",
      "        Mixed       0.64      0.53      0.58       455\n",
      "        Other       0.53      0.49      0.51       825\n",
      "P.R.Neologism       0.61      0.82      0.70      1331\n",
      "     Semantic       0.64      0.62      0.63       696\n",
      "\n",
      "  avg / total       0.59      0.59      0.58      4690\n",
      "\n"
     ]
    }
   ],
   "source": [
    "\n",
    "print(classification_report(y_train, predictions))\n"
   ]
  },
  {
   "cell_type": "code",
   "execution_count": 30,
   "metadata": {},
   "outputs": [
    {
     "data": {
      "image/png": "[encoded data removed]",
      "text/plain": [
       "<Figure size 432x288 with 2 Axes>"
      ]
     },
     "metadata": {
      "needs_background": "light"
     },
     "output_type": "display_data"
    }
   ],
   "source": [
    "cm = confusion_matrix(y_train, predictions)\n",
    "lm.pretty_conf_matrix(cm, ['A.Neo','Formal','Mixed','Other','PR.Neo','Semantic'])"
   ]
  },
  {
   "cell_type": "code",
   "execution_count": 31,
   "metadata": {},
   "outputs": [
    {
     "data": {
      "image/png": "[encoded data removed]",
      "text/plain": [
       "<Figure size 432x288 with 2 Axes>"
      ]
     },
     "metadata": {
      "needs_background": "light"
     },
     "output_type": "display_data"
    }
   ],
   "source": [
    "eval_pd=pd.DataFrame()\n",
    "eval_pd['X1']=X1_val\n",
    "eval_pd['X2']=X2_val\n",
    "eval_pd['y']=y_val\n",
    "\n",
    "acc, predictions=lm.eval_acc(model, eval_pd, c2i, i2c, o2i, i2o)\n",
    "eval_pd['yhat']=predictions\n",
    "\n",
    "\n",
    "cm = confusion_matrix(y_val, predictions)\n",
    "lm.pretty_conf_matrix(cm, ['A.Neo','Formal','Mixed','Other','PR.Neo','Semantic'])\n"
   ]
  },
  {
   "cell_type": "code",
   "execution_count": 32,
   "metadata": {},
   "outputs": [
    {
     "data": {
      "text/plain": [
       "0.47359307359307357"
      ]
     },
     "execution_count": 32,
     "metadata": {},
     "output_type": "execute_result"
    }
   ],
   "source": [
    "acc"
   ]
  },
  {
   "cell_type": "markdown",
   "metadata": {},
   "source": [
    "# Mappd Data Exploration"
   ]
  },
  {
   "cell_type": "code",
   "execution_count": 33,
   "metadata": {},
   "outputs": [
    {
     "ename": "FileNotFoundError",
     "evalue": "[Errno 2] No such file or directory: 'pnt_min_mappd.xlsx'",
     "output_type": "error",
     "traceback": [
      "\u001b[0;31m---------------------------------------------------------------------------\u001b[0m",
      "\u001b[0;31mFileNotFoundError\u001b[0m                         Traceback (most recent call last)",
      "\u001b[0;32m<ipython-input-33-c18923a931ff>\u001b[0m in \u001b[0;36m<module>\u001b[0;34m\u001b[0m\n\u001b[1;32m      5\u001b[0m \u001b[0mprtfile\u001b[0m\u001b[0;34m=\u001b[0m\u001b[0;34m'prt_min_mappd.xlsx'\u001b[0m\u001b[0;34m\u001b[0m\u001b[0m\n\u001b[1;32m      6\u001b[0m \u001b[0;34m\u001b[0m\u001b[0m\n\u001b[0;32m----> 7\u001b[0;31m \u001b[0mpnt\u001b[0m\u001b[0;34m=\u001b[0m\u001b[0mpd\u001b[0m\u001b[0;34m.\u001b[0m\u001b[0mread_excel\u001b[0m\u001b[0;34m(\u001b[0m\u001b[0mpntfile\u001b[0m\u001b[0;34m)\u001b[0m\u001b[0;34m\u001b[0m\u001b[0m\n\u001b[0m\u001b[1;32m      8\u001b[0m \u001b[0mprt\u001b[0m\u001b[0;34m=\u001b[0m\u001b[0mpd\u001b[0m\u001b[0;34m.\u001b[0m\u001b[0mread_excel\u001b[0m\u001b[0;34m(\u001b[0m\u001b[0mprtfile\u001b[0m\u001b[0;34m)\u001b[0m\u001b[0;34m\u001b[0m\u001b[0m\n",
      "\u001b[0;32m~/anaconda3/lib/python3.6/site-packages/pandas/util/_decorators.py\u001b[0m in \u001b[0;36mwrapper\u001b[0;34m(*args, **kwargs)\u001b[0m\n\u001b[1;32m    186\u001b[0m                 \u001b[0;32melse\u001b[0m\u001b[0;34m:\u001b[0m\u001b[0;34m\u001b[0m\u001b[0m\n\u001b[1;32m    187\u001b[0m                     \u001b[0mkwargs\u001b[0m\u001b[0;34m[\u001b[0m\u001b[0mnew_arg_name\u001b[0m\u001b[0;34m]\u001b[0m \u001b[0;34m=\u001b[0m \u001b[0mnew_arg_value\u001b[0m\u001b[0;34m\u001b[0m\u001b[0m\n\u001b[0;32m--> 188\u001b[0;31m             \u001b[0;32mreturn\u001b[0m \u001b[0mfunc\u001b[0m\u001b[0;34m(\u001b[0m\u001b[0;34m*\u001b[0m\u001b[0margs\u001b[0m\u001b[0;34m,\u001b[0m \u001b[0;34m**\u001b[0m\u001b[0mkwargs\u001b[0m\u001b[0;34m)\u001b[0m\u001b[0;34m\u001b[0m\u001b[0m\n\u001b[0m\u001b[1;32m    189\u001b[0m         \u001b[0;32mreturn\u001b[0m \u001b[0mwrapper\u001b[0m\u001b[0;34m\u001b[0m\u001b[0m\n\u001b[1;32m    190\u001b[0m     \u001b[0;32mreturn\u001b[0m \u001b[0m_deprecate_kwarg\u001b[0m\u001b[0;34m\u001b[0m\u001b[0m\n",
      "\u001b[0;32m~/anaconda3/lib/python3.6/site-packages/pandas/util/_decorators.py\u001b[0m in \u001b[0;36mwrapper\u001b[0;34m(*args, **kwargs)\u001b[0m\n\u001b[1;32m    186\u001b[0m                 \u001b[0;32melse\u001b[0m\u001b[0;34m:\u001b[0m\u001b[0;34m\u001b[0m\u001b[0m\n\u001b[1;32m    187\u001b[0m                     \u001b[0mkwargs\u001b[0m\u001b[0;34m[\u001b[0m\u001b[0mnew_arg_name\u001b[0m\u001b[0;34m]\u001b[0m \u001b[0;34m=\u001b[0m \u001b[0mnew_arg_value\u001b[0m\u001b[0;34m\u001b[0m\u001b[0m\n\u001b[0;32m--> 188\u001b[0;31m             \u001b[0;32mreturn\u001b[0m \u001b[0mfunc\u001b[0m\u001b[0;34m(\u001b[0m\u001b[0;34m*\u001b[0m\u001b[0margs\u001b[0m\u001b[0;34m,\u001b[0m \u001b[0;34m**\u001b[0m\u001b[0mkwargs\u001b[0m\u001b[0;34m)\u001b[0m\u001b[0;34m\u001b[0m\u001b[0m\n\u001b[0m\u001b[1;32m    189\u001b[0m         \u001b[0;32mreturn\u001b[0m \u001b[0mwrapper\u001b[0m\u001b[0;34m\u001b[0m\u001b[0m\n\u001b[1;32m    190\u001b[0m     \u001b[0;32mreturn\u001b[0m \u001b[0m_deprecate_kwarg\u001b[0m\u001b[0;34m\u001b[0m\u001b[0m\n",
      "\u001b[0;32m~/anaconda3/lib/python3.6/site-packages/pandas/io/excel.py\u001b[0m in \u001b[0;36mread_excel\u001b[0;34m(io, sheet_name, header, names, index_col, parse_cols, usecols, squeeze, dtype, engine, converters, true_values, false_values, skiprows, nrows, na_values, keep_default_na, verbose, parse_dates, date_parser, thousands, comment, skip_footer, skipfooter, convert_float, mangle_dupe_cols, **kwds)\u001b[0m\n\u001b[1;32m    348\u001b[0m \u001b[0;34m\u001b[0m\u001b[0m\n\u001b[1;32m    349\u001b[0m     \u001b[0;32mif\u001b[0m \u001b[0;32mnot\u001b[0m \u001b[0misinstance\u001b[0m\u001b[0;34m(\u001b[0m\u001b[0mio\u001b[0m\u001b[0;34m,\u001b[0m \u001b[0mExcelFile\u001b[0m\u001b[0;34m)\u001b[0m\u001b[0;34m:\u001b[0m\u001b[0;34m\u001b[0m\u001b[0m\n\u001b[0;32m--> 350\u001b[0;31m         \u001b[0mio\u001b[0m \u001b[0;34m=\u001b[0m \u001b[0mExcelFile\u001b[0m\u001b[0;34m(\u001b[0m\u001b[0mio\u001b[0m\u001b[0;34m,\u001b[0m \u001b[0mengine\u001b[0m\u001b[0;34m=\u001b[0m\u001b[0mengine\u001b[0m\u001b[0;34m)\u001b[0m\u001b[0;34m\u001b[0m\u001b[0m\n\u001b[0m\u001b[1;32m    351\u001b[0m \u001b[0;34m\u001b[0m\u001b[0m\n\u001b[1;32m    352\u001b[0m     return io.parse(\n",
      "\u001b[0;32m~/anaconda3/lib/python3.6/site-packages/pandas/io/excel.py\u001b[0m in \u001b[0;36m__init__\u001b[0;34m(self, io, engine)\u001b[0m\n\u001b[1;32m    651\u001b[0m         \u001b[0mself\u001b[0m\u001b[0;34m.\u001b[0m\u001b[0m_io\u001b[0m \u001b[0;34m=\u001b[0m \u001b[0m_stringify_path\u001b[0m\u001b[0;34m(\u001b[0m\u001b[0mio\u001b[0m\u001b[0;34m)\u001b[0m\u001b[0;34m\u001b[0m\u001b[0m\n\u001b[1;32m    652\u001b[0m \u001b[0;34m\u001b[0m\u001b[0m\n\u001b[0;32m--> 653\u001b[0;31m         \u001b[0mself\u001b[0m\u001b[0;34m.\u001b[0m\u001b[0m_reader\u001b[0m \u001b[0;34m=\u001b[0m \u001b[0mself\u001b[0m\u001b[0;34m.\u001b[0m\u001b[0m_engines\u001b[0m\u001b[0;34m[\u001b[0m\u001b[0mengine\u001b[0m\u001b[0;34m]\u001b[0m\u001b[0;34m(\u001b[0m\u001b[0mself\u001b[0m\u001b[0;34m.\u001b[0m\u001b[0m_io\u001b[0m\u001b[0;34m)\u001b[0m\u001b[0;34m\u001b[0m\u001b[0m\n\u001b[0m\u001b[1;32m    654\u001b[0m \u001b[0;34m\u001b[0m\u001b[0m\n\u001b[1;32m    655\u001b[0m     \u001b[0;32mdef\u001b[0m \u001b[0m__fspath__\u001b[0m\u001b[0;34m(\u001b[0m\u001b[0mself\u001b[0m\u001b[0;34m)\u001b[0m\u001b[0;34m:\u001b[0m\u001b[0;34m\u001b[0m\u001b[0m\n",
      "\u001b[0;32m~/anaconda3/lib/python3.6/site-packages/pandas/io/excel.py\u001b[0m in \u001b[0;36m__init__\u001b[0;34m(self, filepath_or_buffer)\u001b[0m\n\u001b[1;32m    422\u001b[0m             \u001b[0mself\u001b[0m\u001b[0;34m.\u001b[0m\u001b[0mbook\u001b[0m \u001b[0;34m=\u001b[0m \u001b[0mxlrd\u001b[0m\u001b[0;34m.\u001b[0m\u001b[0mopen_workbook\u001b[0m\u001b[0;34m(\u001b[0m\u001b[0mfile_contents\u001b[0m\u001b[0;34m=\u001b[0m\u001b[0mdata\u001b[0m\u001b[0;34m)\u001b[0m\u001b[0;34m\u001b[0m\u001b[0m\n\u001b[1;32m    423\u001b[0m         \u001b[0;32melif\u001b[0m \u001b[0misinstance\u001b[0m\u001b[0;34m(\u001b[0m\u001b[0mfilepath_or_buffer\u001b[0m\u001b[0;34m,\u001b[0m \u001b[0mcompat\u001b[0m\u001b[0;34m.\u001b[0m\u001b[0mstring_types\u001b[0m\u001b[0;34m)\u001b[0m\u001b[0;34m:\u001b[0m\u001b[0;34m\u001b[0m\u001b[0m\n\u001b[0;32m--> 424\u001b[0;31m             \u001b[0mself\u001b[0m\u001b[0;34m.\u001b[0m\u001b[0mbook\u001b[0m \u001b[0;34m=\u001b[0m \u001b[0mxlrd\u001b[0m\u001b[0;34m.\u001b[0m\u001b[0mopen_workbook\u001b[0m\u001b[0;34m(\u001b[0m\u001b[0mfilepath_or_buffer\u001b[0m\u001b[0;34m)\u001b[0m\u001b[0;34m\u001b[0m\u001b[0m\n\u001b[0m\u001b[1;32m    425\u001b[0m         \u001b[0;32melse\u001b[0m\u001b[0;34m:\u001b[0m\u001b[0;34m\u001b[0m\u001b[0m\n\u001b[1;32m    426\u001b[0m             raise ValueError('Must explicitly set engine if not passing in'\n",
      "\u001b[0;32m~/anaconda3/lib/python3.6/site-packages/xlrd/__init__.py\u001b[0m in \u001b[0;36mopen_workbook\u001b[0;34m(filename, logfile, verbosity, use_mmap, file_contents, encoding_override, formatting_info, on_demand, ragged_rows)\u001b[0m\n\u001b[1;32m    109\u001b[0m     \u001b[0;32melse\u001b[0m\u001b[0;34m:\u001b[0m\u001b[0;34m\u001b[0m\u001b[0m\n\u001b[1;32m    110\u001b[0m         \u001b[0mfilename\u001b[0m \u001b[0;34m=\u001b[0m \u001b[0mos\u001b[0m\u001b[0;34m.\u001b[0m\u001b[0mpath\u001b[0m\u001b[0;34m.\u001b[0m\u001b[0mexpanduser\u001b[0m\u001b[0;34m(\u001b[0m\u001b[0mfilename\u001b[0m\u001b[0;34m)\u001b[0m\u001b[0;34m\u001b[0m\u001b[0m\n\u001b[0;32m--> 111\u001b[0;31m         \u001b[0;32mwith\u001b[0m \u001b[0mopen\u001b[0m\u001b[0;34m(\u001b[0m\u001b[0mfilename\u001b[0m\u001b[0;34m,\u001b[0m \u001b[0;34m\"rb\"\u001b[0m\u001b[0;34m)\u001b[0m \u001b[0;32mas\u001b[0m \u001b[0mf\u001b[0m\u001b[0;34m:\u001b[0m\u001b[0;34m\u001b[0m\u001b[0m\n\u001b[0m\u001b[1;32m    112\u001b[0m             \u001b[0mpeek\u001b[0m \u001b[0;34m=\u001b[0m \u001b[0mf\u001b[0m\u001b[0;34m.\u001b[0m\u001b[0mread\u001b[0m\u001b[0;34m(\u001b[0m\u001b[0mpeeksz\u001b[0m\u001b[0;34m)\u001b[0m\u001b[0;34m\u001b[0m\u001b[0m\n\u001b[1;32m    113\u001b[0m     \u001b[0;32mif\u001b[0m \u001b[0mpeek\u001b[0m \u001b[0;34m==\u001b[0m \u001b[0;34mb\"PK\\x03\\x04\"\u001b[0m\u001b[0;34m:\u001b[0m \u001b[0;31m# a ZIP file\u001b[0m\u001b[0;34m\u001b[0m\u001b[0m\n",
      "\u001b[0;31mFileNotFoundError\u001b[0m: [Errno 2] No such file or directory: 'pnt_min_mappd.xlsx'"
     ]
    }
   ],
   "source": [
    "import pandas as pd\n",
    "#Reference HW3 for RNN starting place\n",
    "\n",
    "pntfile='pnt_min_mappd.xlsx'\n",
    "prtfile='prt_min_mappd.xlsx'\n",
    "\n",
    "pnt=pd.read_excel(pntfile)\n",
    "prt=pd.read_excel(prtfile)\n"
   ]
  },
  {
   "cell_type": "code",
   "execution_count": null,
   "metadata": {},
   "outputs": [],
   "source": [
    "#prt.groupby('Conventional_response_code').sum()\n",
    "prt.loc[:,'testtype']='prt'\n"
   ]
  },
  {
   "cell_type": "code",
   "execution_count": null,
   "metadata": {},
   "outputs": [],
   "source": [
    "pnt.loc[:,'testtype']='pnt'\n",
    "pnt.groupby('Conventional_response_code').sum()"
   ]
  },
  {
   "cell_type": "code",
   "execution_count": null,
   "metadata": {},
   "outputs": [],
   "source": [
    "combined=prt.append(pnt)\n",
    "combined.groupby('Conventional_response_code').count()"
   ]
  },
  {
   "cell_type": "code",
   "execution_count": null,
   "metadata": {},
   "outputs": [],
   "source": [
    "combined=combined.drop('Test_iteration',axis=1)\n",
    "combined.drop_duplicates(inplace=True)"
   ]
  },
  {
   "cell_type": "code",
   "execution_count": null,
   "metadata": {},
   "outputs": [],
   "source": [
    "combined.groupby('Conventional_response_code').count()"
   ]
  }
 ],
 "metadata": {
  "kernelspec": {
   "display_name": "Python 3",
   "language": "python",
   "name": "python3"
  },
  "language_info": {
   "codemirror_mode": {
    "name": "ipython",
    "version": 3
   },
   "file_extension": ".py",
   "mimetype": "text/x-python",
   "name": "python",
   "nbconvert_exporter": "python",
   "pygments_lexer": "ipython3",
   "version": "3.6.5"
  }
 },
 "nbformat": 4,
 "nbformat_minor": 2
}
